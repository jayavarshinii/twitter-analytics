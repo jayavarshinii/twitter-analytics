{
 "cells": [
  {
   "cell_type": "code",
   "execution_count": 90,
   "metadata": {},
   "outputs": [],
   "source": [
    "from textblob import TextBlob\n",
    "import sys,tweepy\n",
    "import matplotlib.pyplot as plt"
   ]
  },
  {
   "cell_type": "code",
   "execution_count": 91,
   "metadata": {},
   "outputs": [],
   "source": [
    "def percentage(part,whole):\n",
    "    return 100*float(part)/float(whole)"
   ]
  },
  {
   "cell_type": "code",
   "execution_count": 92,
   "metadata": {},
   "outputs": [
    {
     "name": "stdout",
     "output_type": "stream",
     "text": [
      "Enter Keyword/hastag to searchindia\n",
      "Enter how many tweets to analyse5\n"
     ]
    }
   ],
   "source": [
    "consumeKey=\"pDUy3QmylkFXbI6ohhbKCE6hH\"\n",
    "consumerSecret=\"uw8vDnbi9cjHwJYzatjCTx8ZLO3dKKqj0OxyzNDVNnnVWWw4n9\"\n",
    "accessToken=\"853232902259298306-jIb8GytBuk3rxp4acLv6A8S1pc3rXJX\"\n",
    "accessTokenSecret=\"EtvFTyclHnRWTHWdpsakY4V7PInWSrG6bR0T0BEcQTAXP\"\n",
    "\n",
    "auth=tweepy.OAuthHandler(consumeKey,consumerSecret)\n",
    "auth.set_access_token(accessToken,accessTokenSecret)\n",
    "api=tweepy.API(auth)\n",
    "\n",
    "searchTerm=input(\"Enter Keyword/hastag to search\")\n",
    "noOfSearchTerms=int(input(\"Enter how many tweets to analyse\"))\n",
    "\n",
    "tweets=tweepy.Cursor(api.search,q=searchTerm,lang=\"English\").items(noOfSearchTerms)\n",
    "positive = 0\n",
    "negative=0\n",
    "neutral=0\n",
    "polarity=0\n",
    "\n",
    "for tweet in tweets:\n",
    "    #print(tweet.text)\n",
    "    analysis=TextBlob(tweet.text)\n",
    "    polarity+=analysis.sentiment.polarity\n",
    "    \n",
    "    if(analysis.sentiment.polarity==0):\n",
    "        neutral+=1\n",
    "    if(analysis.sentiment.polarity<0):\n",
    "        negative+=1    \n",
    "    if(analysis.sentiment.polarity>0):\n",
    "        positive+=1\n",
    "        \n",
    "positive=percentage(positive,noOfSearchTerms)\n",
    "negative=percentage(negative,noOfSearchTerms)\n",
    "neutral=percentage(neutral,noOfSearchTerms)\n",
    "\n",
    "positive=format(positive,'.2f')\n",
    "neutral=format(neutral,'.2f')\n",
    "negative=format(negative,'.2f')\n"
   ]
  },
  {
   "cell_type": "code",
   "execution_count": 93,
   "metadata": {},
   "outputs": [
    {
     "name": "stdout",
     "output_type": "stream",
     "text": [
      "How people are reacting on indiaby analyzing 5Tweets.\n",
      "positive\n"
     ]
    }
   ],
   "source": [
    "print('How people are reacting on ' +searchTerm+'by analyzing '+str(noOfSearchTerms)+'Tweets.')\n",
    "if(polarity==0):\n",
    "    print(\"neutral\")\n",
    "elif(polarity<0):\n",
    "    print(\"negative\")\n",
    "elif(polarity>0):\n",
    "    print(\"positive\")"
   ]
  },
  {
   "cell_type": "code",
   "execution_count": 94,
   "metadata": {},
   "outputs": [
    {
     "data": {
      "image/png": "[encoded data removed]",
      "text/plain": [
       "<matplotlib.figure.Figure at 0x11052b588>"
      ]
     },
     "metadata": {},
     "output_type": "display_data"
    }
   ],
   "source": [
    "labels=['Positive['+str(positive)+'%]','neutral['+str(neutral)+'%]','negative['+str(negative)+'%]']\n",
    "sizes=[positive,neutral,negative]\n",
    "colors=['yellowgreen','gold','red']\n",
    "patches,texts=plt.pie(sizes,colors=colors,startangle=90)\n",
    "plt.legend(patches, labels, loc=\"best\")\n",
    "plt.title('How people are reacting on ' + searchTerm + ' by analyzing ' + str(noOfSearchTerms) + ' Tweets.')\n",
    "plt.axis('equal')\n",
    "plt.tight_layout()\n",
    "plt.show()\n"
   ]
  },
  {
   "cell_type": "code",
   "execution_count": 95,
   "metadata": {},
   "outputs": [],
   "source": [
    "a=TextBlob(\"I am the best programmer ever\")"
   ]
  },
  {
   "cell_type": "code",
   "execution_count": 96,
   "metadata": {},
   "outputs": [
    {
     "data": {
      "text/plain": [
       "1.0"
      ]
     },
     "execution_count": 96,
     "metadata": {},
     "output_type": "execute_result"
    }
   ],
   "source": [
    "a.sentiment.polarity"
   ]
  },
  {
   "cell_type": "code",
   "execution_count": null,
   "metadata": {},
   "outputs": [],
   "source": []
  }
 ],
 "metadata": {
  "kernelspec": {
   "display_name": "Python 3",
   "language": "python",
   "name": "python3"
  },
  "language_info": {
   "codemirror_mode": {
    "name": "ipython",
    "version": 3
   },
   "file_extension": ".py",
   "mimetype": "text/x-python",
   "name": "python",
   "nbconvert_exporter": "python",
   "pygments_lexer": "ipython3",
   "version": "3.6.4"
  }
 },
 "nbformat": 4,
 "nbformat_minor": 2
}
